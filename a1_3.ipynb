{
 "cells": [
  {
   "cell_type": "code",
   "execution_count": 1,
   "metadata": {
    "id": "OkP9lM_kLSVb"
   },
   "outputs": [
    {
     "data": {
      "text/plain": [
       "array([[0.75939708],\n",
       "       [0.77869726],\n",
       "       [0.78930004],\n",
       "       [0.80019189]])"
      ]
     },
     "execution_count": 1,
     "metadata": {},
     "output_type": "execute_result"
    }
   ],
   "source": [
    "import numpy as np\n",
    "\n",
    "#sigmoid function\n",
    "def sigmoid(n):\n",
    "    return 1/(1+np.exp(-n)) \n",
    "\n",
    "i=np.array([[0, 0],[0, 1],[1, 0],[1, 1]]) #inputs for xor gate\n",
    "o=np.array([[0],[1],[1],[0]]) #desired output of xor\n",
    "l=0.1 #learning rate \n",
    "\n",
    "#random weights and bias\n",
    "h_w=np.random.uniform(size=(2,2)) #hidden weights\n",
    "h_b=np.random.uniform(size=(1,2)) #hidden bias\n",
    "o_w=np.random.uniform(size=(2,1)) #output weights\n",
    "o_b=np.random.uniform(size=(1,1)) #output bias\n",
    "\n",
    "def xor_net(h_w,h_b,o_w,o_b):\n",
    "    h_o = sigmoid(np.dot(i,h_w)+h_b)\n",
    "    out = sigmoid(np.dot(h_o,o_w)+o_b)\n",
    "    return out,h_o\n",
    "\n",
    "out,h_o=xor_net(h_w,h_b,o_w,o_b)\n",
    "out"
   ]
  },
  {
   "cell_type": "code",
   "execution_count": 2,
   "metadata": {
    "id": "suaCQ-cXP3pC"
   },
   "outputs": [],
   "source": [
    "def s(x):\n",
    "  su=0\n",
    "  for i in x:\n",
    "    su=su+i**2\n",
    "  return su"
   ]
  },
  {
   "cell_type": "code",
   "execution_count": 3,
   "metadata": {
    "colab": {
     "base_uri": "https://localhost:8080/"
    },
    "id": "ZzcvwR66LSVf",
    "outputId": "75ee3b6e-dc3d-495f-f4d5-75e5713c488a"
   },
   "outputs": [
    {
     "data": {
      "text/plain": [
       "array([[0.03280255],\n",
       "       [0.97111351],\n",
       "       [0.97110709],\n",
       "       [0.03033132]])"
      ]
     },
     "execution_count": 3,
     "metadata": {},
     "output_type": "execute_result"
    }
   ],
   "source": [
    "#derivative of sigmoid function\n",
    "def d_sigmoid(n):\n",
    "  return n*(1-n) \n",
    "\n",
    "index=[] \n",
    "error_sig=[]\n",
    "#back propagation using sigmoid as activation function\n",
    "for j in range(10000):\n",
    "    index.append(j)\n",
    "    error=(o-out)*2  #mse\n",
    "    error_sig.append(s(error)) #to plot the error\n",
    "    d_out=error*d_sigmoid(out)\n",
    "    error_h=np.dot(d_out,o_w.T) #error for hidden layer\n",
    "    d_h=error_h*d_sigmoid(h_o)   \n",
    "    #updating weights and bias\n",
    "    o_w=o_w+l*np.dot(h_o.T,d_out) #output weight\n",
    "    h_w=h_w+l*np.dot(i.T,d_h) #hidden weight\n",
    "    o_b=o_b+np.sum(d_out,axis=0)*l #output bias\n",
    "    h_b=h_b+np.sum(d_h,axis=0)*l #hidden bias\n",
    "    out,h_o=xor_net(h_w,h_b,o_w,o_b)\n",
    "\n",
    "out\n",
    "#final output "
   ]
  },
  {
   "cell_type": "code",
   "execution_count": 4,
   "metadata": {
    "colab": {
     "base_uri": "https://localhost:8080/",
     "height": 282
    },
    "id": "SXP07Bs2LSVf",
    "outputId": "db1fd382-fa9a-4443-be1b-4b15fc69c905"
   },
   "outputs": [
    {
     "data": {
      "text/plain": [
       "<matplotlib.collections.PathCollection at 0x1bfbb6f3a60>"
      ]
     },
     "execution_count": 4,
     "metadata": {},
     "output_type": "execute_result"
    },
    {
     "data": {
      "image/png": "[encoded data removed]",
      "text/plain": [
       "<Figure size 432x288 with 1 Axes>"
      ]
     },
     "metadata": {
      "needs_background": "light"
     },
     "output_type": "display_data"
    }
   ],
   "source": [
    "import matplotlib.pyplot as plt\n",
    "plt.scatter(index,error_sig)"
   ]
  },
  {
   "cell_type": "code",
   "execution_count": 43,
   "metadata": {
    "id": "g3yBvD00NvH0"
   },
   "outputs": [],
   "source": [
    "#Repeating the experiment by using tanh as activation function\n",
    "#hyperbolic tangent function\n",
    "def tan_h(x):\n",
    "  return (np.exp(x)-np.exp(-x))/(np.exp(x)+np.exp(-x))"
   ]
  },
  {
   "cell_type": "code",
   "execution_count": 44,
   "metadata": {
    "id": "LI1Sum8nRRSG"
   },
   "outputs": [],
   "source": [
    "#derivative of  hyperbolic tangent function\n",
    "def d_tanh(x):\n",
    "  return 1-(tan_h(x))**2"
   ]
  },
  {
   "cell_type": "code",
   "execution_count": 63,
   "metadata": {
    "id": "lsibM0AkRbU2"
   },
   "outputs": [],
   "source": [
    "#initialising random weights and bias\n",
    "h_w=np.random.uniform(size=(2,2)) #hidden weights\n",
    "h_b=np.random.uniform(size=(1,2)) #hidden bias\n",
    "o_w=np.random.uniform(size=(2,1)) #output weights\n",
    "o_b=np.random.uniform(size=(1,1)) #output bias\n",
    "\n",
    "def xor_net(h_w,h_b,o_w,o_b):\n",
    "    h_o = tan_h(np.dot(i,h_w)+h_b)\n",
    "    out = tan_h(np.dot(h_o,o_w)+o_b)\n",
    "    return out,h_o\n",
    "\n",
    "out,h_o=xor_net(h_w,h_b,o_w,o_b)"
   ]
  },
  {
   "cell_type": "code",
   "execution_count": 64,
   "metadata": {
    "colab": {
     "base_uri": "https://localhost:8080/"
    },
    "id": "TdEMFZMeRiFe",
    "outputId": "6321d0be-1536-4f94-d3be-f362f964306c"
   },
   "outputs": [
    {
     "data": {
      "text/plain": [
       "array([[0.64361682],\n",
       "       [0.88192705],\n",
       "       [0.84161218],\n",
       "       [0.9039376 ]])"
      ]
     },
     "execution_count": 64,
     "metadata": {},
     "output_type": "execute_result"
    }
   ],
   "source": [
    "out"
   ]
  },
  {
   "cell_type": "code",
   "execution_count": 65,
   "metadata": {
    "colab": {
     "base_uri": "https://localhost:8080/"
    },
    "id": "o4tMYT47RjCf",
    "outputId": "350c62cb-7c5c-4851-d5f1-f99c45a1a520"
   },
   "outputs": [
    {
     "data": {
      "text/plain": [
       "array([[0.01250743],\n",
       "       [0.99969486],\n",
       "       [0.99969487],\n",
       "       [0.01450044]])"
      ]
     },
     "execution_count": 65,
     "metadata": {},
     "output_type": "execute_result"
    }
   ],
   "source": [
    "index=[] \n",
    "error_tanh=[]\n",
    "#back propagation using hyperbolic tangent function\n",
    "for j in range(10000):\n",
    "    index.append(j)\n",
    "    error=(o-out)*2  \n",
    "    error_tanh.append(s(error)) \n",
    "    d_out=error*d_tanh(out)\n",
    "\n",
    "    error_h=np.dot(d_out,o_w.T) #error for hidden layer\n",
    "    d_h=error_h*d_tanh(h_o)\n",
    "    \n",
    "    #updating weights and bias\n",
    "    o_w=o_w+l*np.dot(h_o.T,d_out) #output weight\n",
    "    h_w=h_w+l*np.dot(i.T,d_h) #hidden weight\n",
    "    o_b=o_b+np.sum(d_out,axis=0)*l #output bias\n",
    "    h_b=h_b+np.sum(d_h,axis=0)*l #hidden bias\n",
    "    out,h_o=xor_net(h_w,h_b,o_w,o_b)\n",
    "\n",
    "out\n",
    "#final output"
   ]
  },
  {
   "cell_type": "code",
   "execution_count": 66,
   "metadata": {
    "colab": {
     "base_uri": "https://localhost:8080/",
     "height": 282
    },
    "id": "549SI7PURxuR",
    "outputId": "12d8ca57-0218-4a97-b8ed-d1592dea36d5"
   },
   "outputs": [
    {
     "data": {
      "text/plain": [
       "<matplotlib.collections.PathCollection at 0x1bfbcea36d0>"
      ]
     },
     "execution_count": 66,
     "metadata": {},
     "output_type": "execute_result"
    },
    {
     "data": {
      "image/png": "[encoded data removed]",
      "text/plain": [
       "<Figure size 432x288 with 1 Axes>"
      ]
     },
     "metadata": {
      "needs_background": "light"
     },
     "output_type": "display_data"
    }
   ],
   "source": [
    "import matplotlib.pyplot as plt\n",
    "plt.scatter(index,error_tanh)"
   ]
  },
  {
   "cell_type": "code",
   "execution_count": 67,
   "metadata": {
    "colab": {
     "base_uri": "https://localhost:8080/",
     "height": 265
    },
    "id": "64_Mp-S2YUFC",
    "outputId": "4a2121e2-88a0-4bac-97ea-704311daa4f2"
   },
   "outputs": [
    {
     "data": {
      "image/png": "[encoded data removed]",
      "text/plain": [
       "<Figure size 432x288 with 1 Axes>"
      ]
     },
     "metadata": {
      "needs_background": "light"
     },
     "output_type": "display_data"
    }
   ],
   "source": [
    "#comparing error for backpropagation using sigmoid and tanh function \n",
    "plt.plot(index[:3000],error_sig[:3000],label=\"sigmoid\")\n",
    "plt.plot(index[:3000],error_tanh[:3000],label=\"tanh\")\n",
    "plt.legend()\n",
    "plt.show()"
   ]
  },
  {
   "cell_type": "code",
   "execution_count": null,
   "metadata": {},
   "outputs": [],
   "source": []
  }
 ],
 "metadata": {
  "colab": {
   "name": "a1_3.ipynb",
   "provenance": []
  },
  "kernelspec": {
   "display_name": "Python 3",
   "language": "python",
   "name": "python3"
  },
  "language_info": {
   "codemirror_mode": {
    "name": "ipython",
    "version": 3
   },
   "file_extension": ".py",
   "mimetype": "text/x-python",
   "name": "python",
   "nbconvert_exporter": "python",
   "pygments_lexer": "ipython3",
   "version": "3.8.3"
  }
 },
 "nbformat": 4,
 "nbformat_minor": 1
}
