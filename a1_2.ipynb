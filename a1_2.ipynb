{
  "nbformat": 4,
  "nbformat_minor": 0,
  "metadata": {
    "colab": {
      "name": "a1_2.ipynb",
      "provenance": [],
      "collapsed_sections": []
    },
    "kernelspec": {
      "name": "python3",
      "display_name": "Python 3"
    },
    "language_info": {
      "name": "python"
    }
  },
  "cells": [
    {
      "cell_type": "code",
      "metadata": {
        "id": "A3xanmEpPG7U"
      },
      "source": [
        "import numpy as np\n",
        "import pandas\n",
        "import pickle\n",
        "import random\n",
        "import matplotlib.pyplot as plt\n"
      ],
      "execution_count": null,
      "outputs": []
    },
    {
      "cell_type": "code",
      "metadata": {
        "id": "3p5BT_PlYlaV"
      },
      "source": [
        "train_data = pandas.read_csv('data/train_in.csv').to_numpy()\n",
        "train_labels = pandas.read_csv('data/train_out.csv').to_numpy()\n",
        "test_data = pandas.read_csv('data/test_in.csv').to_numpy()\n",
        "test_labels = pandas.read_csv('data/test_out.csv').to_numpy()\n",
        "train_labels.shape = (train_labels.size,)\n",
        "test_labels.shape = (test_labels.size,)"
      ],
      "execution_count": null,
      "outputs": []
    },
    {
      "cell_type": "code",
      "metadata": {
        "id": "JUvheCT8YssP"
      },
      "source": [
        "class MultiClassPerceptron():\n",
        "  accuracy = 0.0\n",
        "  \"\"\"\n",
        "  A Multi-Class Perceptron class\n",
        "  :param  X                 Train data\n",
        "  :param  y                 Train labels\n",
        "  :param  BIAS              BIAS\n",
        "  \"\"\"\n",
        "  def __init__(self, X, y, BIAS=0.1):\n",
        "    self.classes = sorted(np.unique(y).tolist())\n",
        "    z = np.ones((len(y),1))\n",
        "    self.X = np.hstack((X, z))\n",
        "    self.y = y\n",
        "    self.BIAS = BIAS\n",
        "    self.current_iteration = 0\n",
        "    self.error_rates = []\n",
        "    # Random weight vectors with BIAS        ...initialize weights w at random\n",
        "    random_weights = np.array([random.random() for _ in range(len(X[0]))]+[BIAS])\n",
        "    self.weight_vectors = np.tile(random_weights, (len(self.classes),1))\n",
        "  \n",
        "  def train(self):\n",
        "      \"\"\"\n",
        "      while (there are misclassified training examples)\n",
        "      Select a misclassified example (x, ci\n",
        "      )\n",
        "      Then some nodes are activated more than the node ci\n",
        "      1) update weights of these nodes by -x: w = w - x;\n",
        "      2) update weights of the node ci\n",
        "      by x: w = w + x;\n",
        "      3) leave weights of all other nodes unchanged\n",
        "      end-while;\n",
        "\n",
        "      \"\"\"\n",
        "      self.current_iteration=0\n",
        "      class_predictions=False\n",
        "      sample_size = len(self.y)\n",
        "      while not np.all(class_predictions == self.y):\n",
        "        class_scores = np.dot(self.weight_vectors, self.X.transpose())\n",
        "        max_scores = np.max(class_scores, axis=0)\n",
        "        class_predictions = np.argmax(class_scores, axis=0)\n",
        "        # print(f'{np.count_nonzero(class_predictions==train_labels)}/{len(self.y)}')\n",
        "        for i in range(len(self.y)):\n",
        "          if self.y[i] != class_predictions[i]: # Whether I predicted correctly\n",
        "            for c in self.classes:\n",
        "              if c == self.y[i]: # For the correct class the answer that it should be, increase weight so it much more likely to know correct input\n",
        "                self.weight_vectors[c][:-1] += self.X[i][:-1]\n",
        "              elif class_scores[c][i] >= max_scores[i]: # For every class that predicted much more likely than the correct one, reduce weight so they don't get in they way of correct node\n",
        "                self.weight_vectors[c][:-1] -= self.X[i][:-1]\n",
        "        self.error_rates.append(1-(np.count_nonzero(class_predictions == self.y) / sample_size))\n",
        "        self.weight_vectors[:,0] = 0\n",
        "        self.current_iteration += 1      \n",
        "      print(f\"Achieved result in {self.current_iteration} iterations\")\n",
        "\n",
        "  def predict(self, test_arr):\n",
        "      z = np.ones((len(test_labels),1))\n",
        "      test_adjusted = np.hstack((test_arr, z))\n",
        "      class_scores = np.dot(mcp.weight_vectors, test_adjusted.transpose())\n",
        "      class_predictions = np.argmax(class_scores, axis=0)\n",
        "      print(f\"Perceptron error rate: {(1-(np.count_nonzero(class_predictions==test_labels)/len(test_labels)))*100}\")\n",
        "      return class_predictions\n"
      ],
      "execution_count": null,
      "outputs": []
    },
    {
      "cell_type": "code",
      "metadata": {
        "colab": {
          "base_uri": "https://localhost:8080/",
          "height": 330
        },
        "id": "MEatet8EhoRx",
        "outputId": "d5a67eb6-bed4-4b3e-abe5-bc73f319ed57"
      },
      "source": [
        "mcp = MultiClassPerceptron(train_data,train_labels)\n",
        "mcp.train()\n",
        "mcp.predict(test_data)\n",
        "plt.xlabel(\"Iterations\")\n",
        "plt.ylabel(\"Error Rate\")\n",
        "plt.plot(mcp.error_rates)"
      ],
      "execution_count": null,
      "outputs": [
        {
          "output_type": "stream",
          "name": "stdout",
          "text": [
            "Achieved result in 271 iterations\n",
            "Perceptron error rate: 12.91291291291291\n"
          ]
        },
        {
          "output_type": "execute_result",
          "data": {
            "text/plain": [
              "[<matplotlib.lines.Line2D at 0x7f3b309a0390>]"
            ]
          },
          "metadata": {},
          "execution_count": 24
        },
        {
          "output_type": "display_data",
          "data": {
            "image/png": "[encoded data removed]",
            "text/plain": [
              "<Figure size 432x288 with 1 Axes>"
            ]
          },
          "metadata": {
            "needs_background": "light"
          }
        }
      ]
    },
    {
      "cell_type": "code",
      "metadata": {
        "id": "XVEoyxoRZeN7"
      },
      "source": [
        ""
      ],
      "execution_count": null,
      "outputs": []
    }
  ]
}